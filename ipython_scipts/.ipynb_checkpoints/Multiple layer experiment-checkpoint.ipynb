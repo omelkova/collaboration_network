{
 "cells": [
  {
   "cell_type": "code",
   "execution_count": 171,
   "metadata": {
    "collapsed": true
   },
   "outputs": [],
   "source": [
    "from rdflib import Graph, RDF, URIRef, Namespace\n",
    "import numpy as np\n",
    "from pandas import DataFrame\n",
    "import pandas as pd\n",
    "import matplotlib.pyplot as plt\n",
    "%matplotlib inline\n",
    "# custom packages\n",
    "import sys\n",
    "sys.path.append( \"../py\" )\n",
    "import collaboration"
   ]
  },
  {
   "cell_type": "code",
   "execution_count": 123,
   "metadata": {
    "collapsed": false
   },
   "outputs": [
    {
     "data": {
      "text/plain": [
       "<module 'collaboration' from '../py/collaboration.py'>"
      ]
     },
     "execution_count": 123,
     "metadata": {},
     "output_type": "execute_result"
    }
   ],
   "source": [
    "import importlib\n",
    "importlib.reload(collaboration)"
   ]
  },
  {
   "cell_type": "code",
   "execution_count": 3,
   "metadata": {
    "collapsed": false
   },
   "outputs": [],
   "source": [
    "g, ns = collaboration.parse_graph(\"../graph/experiment_graph.ttl\", \"turtle\")"
   ]
  },
  {
   "cell_type": "code",
   "execution_count": 152,
   "metadata": {
    "collapsed": true
   },
   "outputs": [],
   "source": [
    "central_entity = \"api_network:API\" #entity for recommnsendation\n",
    "entity1 = (\"api_network:Mashup\", \"gr:include\")\n",
    "entity2 = (\"foaf:OnlineAccount\", \"sioc:follows\")\n",
    "entity3 = (\"skos:Concept\", [\"api_network:primaryCategory\", \"api_network:secondaryCategory\"])\n",
    "entity4 = (\"xsd:string\", \"api-network:protocol\")"
   ]
  },
  {
   "cell_type": "code",
   "execution_count": 5,
   "metadata": {
    "collapsed": false
   },
   "outputs": [],
   "source": [
    "User_API_df = collaboration.create_relatiobships_df(g, ns, entity2[0], central_entity, entity2[1])\n",
    "Mahup_API_df = collaboration.create_relatiobships_df(g, ns, entity1[0], central_entity, entity1[1])"
   ]
  },
  {
   "cell_type": "code",
   "execution_count": 170,
   "metadata": {
    "collapsed": true
   },
   "outputs": [],
   "source": [
    "Tag_API_df1 = collaboration.create_relatiobships_df(g, ns, central_entity, entity3[0], entity3[1][0])\n",
    "Tag_API_df2 = collaboration.create_relatiobships_df(g, ns, central_entity, entity3[0], entity3[1][1])"
   ]
  },
  {
   "cell_type": "code",
   "execution_count": 172,
   "metadata": {
    "collapsed": true
   },
   "outputs": [],
   "source": [
    "Tag_API_df = pd.concat([Tag_API_df1, Tag_API_df2], ignore_index = True)"
   ]
  },
  {
   "cell_type": "code",
   "execution_count": 183,
   "metadata": {
    "collapsed": false
   },
   "outputs": [],
   "source": [
    "Tag_API_df = Tag_API_df.drop_duplicates()"
   ]
  },
  {
   "cell_type": "code",
   "execution_count": 6,
   "metadata": {
    "collapsed": false
   },
   "outputs": [],
   "source": [
    "API_legend, API_rev_legend = collaboration.create_legend_and_reversed_legend_from_graph(central_entity, g, ns)\n",
    "Mashup_legend, Mashup_rev_legend = collaboration.create_legend_and_reversed_legend_from_graph(entity1[0], g, ns)\n",
    "User_legend, user_rev_legend = collaboration.create_legend_and_reversed_legend_from_graph(entity2[0], g, ns)"
   ]
  },
  {
   "cell_type": "code",
   "execution_count": 185,
   "metadata": {
    "collapsed": true
   },
   "outputs": [],
   "source": [
    "Tag_legend, tag_rev_legend = collaboration.create_legend_and_reversed_legend_from_graph(entity3[0], g, ns)"
   ]
  },
  {
   "cell_type": "markdown",
   "metadata": {},
   "source": [
    "###Evaluation###"
   ]
  },
  {
   "cell_type": "code",
   "execution_count": 25,
   "metadata": {
    "collapsed": false
   },
   "outputs": [],
   "source": [
    "msk = np.random.rand(len(User_API_df)) < 0.9"
   ]
  },
  {
   "cell_type": "code",
   "execution_count": 27,
   "metadata": {
    "collapsed": false
   },
   "outputs": [],
   "source": [
    "train_USER_API_df = User_API_df[msk]\n",
    "test_USER_API_df = User_API_df[~msk]"
   ]
  },
  {
   "cell_type": "code",
   "execution_count": 29,
   "metadata": {
    "collapsed": false
   },
   "outputs": [],
   "source": [
    "train_API_User_dict = collaboration.create_relationship_dictionary(central_entity, entity2[0], API_legend, user_rev_legend, train_USER_API_df)\n",
    "train_User_API_dict = collaboration.create_relationship_dictionary(entity2[0], central_entity, User_legend, API_rev_legend, train_USER_API_df)"
   ]
  },
  {
   "cell_type": "code",
   "execution_count": 49,
   "metadata": {
    "collapsed": true
   },
   "outputs": [],
   "source": [
    "test_User_API_dict = collaboration.create_relationship_dictionary(entity2[0], central_entity, User_legend, API_rev_legend, test_USER_API_df)"
   ]
  },
  {
   "cell_type": "code",
   "execution_count": 9,
   "metadata": {
    "collapsed": false
   },
   "outputs": [],
   "source": [
    "API_Mashup = collaboration.create_relationship_dictionary(central_entity, entity1[0], API_legend, Mashup_rev_legend, Mahup_API_df)\n",
    "Mashup_API = collaboration.create_relationship_dictionary(entity1[0], central_entity, Mashup_legend, API_rev_legend, Mahup_API_df)"
   ]
  },
  {
   "cell_type": "code",
   "execution_count": 189,
   "metadata": {
    "collapsed": true
   },
   "outputs": [],
   "source": [
    "API_Tag = collaboration.create_relationship_dictionary(central_entity, entity3[0], API_legend, tag_rev_legend, Tag_API_df)\n",
    "Tag_API = collaboration.create_relationship_dictionary(entity3[0], central_entity, Tag_legend, API_rev_legend, Tag_API_df)"
   ]
  },
  {
   "cell_type": "code",
   "execution_count": 128,
   "metadata": {
    "collapsed": false
   },
   "outputs": [],
   "source": [
    "NBI_API_User_Mashup = []\n",
    "for u,value in test_User_API_dict.items():\n",
    "    if value:\n",
    "        #if value != mashup_api[m]:\n",
    "        recomm = collaboration.three_layer_recommendation(u, train_User_API_dict, train_API_User_dict, Mashup_API, API_Mashup)\n",
    "        for api in value:\n",
    "            recommended_tuple = [i for i in recomm if i[0] == api]\n",
    "            if recommended_tuple:\n",
    "                NBI_API_User_Mashup.append(recomm.index(recommended_tuple[0])/len(recomm)) # 1491)#find position of test item in recommendation list\n",
    "            else:\n",
    "                NBI_API_User_Mashup.append(1)"
   ]
  },
  {
   "cell_type": "code",
   "execution_count": 191,
   "metadata": {
    "collapsed": false
   },
   "outputs": [],
   "source": [
    "NBI_API_User_Tag = []\n",
    "for u,value in test_User_API_dict.items():\n",
    "    if value:\n",
    "        #if value != mashup_api[m]:\n",
    "        recomm = collaboration.three_layer_recommendation(u, train_User_API_dict, train_API_User_dict, Tag_API, API_Tag)\n",
    "        for api in value:\n",
    "            recommended_tuple = [i for i in recomm if i[0] == api]\n",
    "            if recommended_tuple:\n",
    "                NBI_API_User_Tag.append(recomm.index(recommended_tuple[0])/len(recomm)) # 1491)#find position of test item in recommendation list\n",
    "            else:\n",
    "                NBI_API_User_Tag.append(1)"
   ]
  },
  {
   "cell_type": "code",
   "execution_count": 135,
   "metadata": {
    "collapsed": false
   },
   "outputs": [],
   "source": [
    "NBI_API_User = []\n",
    "for u,value in test_User_API_dict.items():\n",
    "    if value:\n",
    "        #if value != mashup_api[m]:\n",
    "        recomm = collaboration.two_layer_recommendation(train_User_API_dict[u], train_User_API_dict, train_API_User_dict)\n",
    "        for api in value:\n",
    "            recommended_tuple = [i for i in recomm if i[0] == api]\n",
    "            if recommended_tuple:\n",
    "                NBI_API_User.append(recomm.index(recommended_tuple[0])/len(recomm)) # 1491)#find position of test item in recommendation list\n",
    "            else:\n",
    "                NBI_API_User.append(1)"
   ]
  },
  {
   "cell_type": "code",
   "execution_count": 148,
   "metadata": {
    "collapsed": false
   },
   "outputs": [],
   "source": [
    "# GRM by number of followers\n",
    "with_lengths = {}\n",
    "for a,m in train_API_User_dict.items():\n",
    "    with_lengths[a]=len(m)\n",
    "sorted_apis = sorted(with_lengths.items(), key=operator.itemgetter(1), reverse=True)\n",
    "\n",
    "GRM_result = []\n",
    "for m,value in test_User_API_dict.items():\n",
    "    #if value != mashup_api[m]:\n",
    "    for api in value:\n",
    "        recommended_tuple = [i for i in sorted_apis if i[0] == api]\n",
    "        if recommended_tuple:\n",
    "            GRM_result.append(sorted_apis.index(recommended_tuple[0])/len(sorted_apis)) # 1491)#\n",
    "        else:\n",
    "            GRM_result.append(1)"
   ]
  },
  {
   "cell_type": "code",
   "execution_count": 195,
   "metadata": {
    "collapsed": false
   },
   "outputs": [
    {
     "data": {
      "text/plain": [
       "<matplotlib.legend.Legend at 0x7f04fd8fbfd0>"
      ]
     },
     "execution_count": 195,
     "metadata": {},
     "output_type": "execute_result"
    },
    {
     "data": {
      "image/png": "[encoded data removed]",
      "text/plain": [
       "<matplotlib.figure.Figure at 0x7f04fcac1a58>"
      ]
     },
     "metadata": {},
     "output_type": "display_data"
    }
   ],
   "source": [
    "# evaluate the histogram\n",
    "values, base = np.histogram([i for i in NBI_result if i != 1], bins=40)\n",
    "values1, base1 = np.histogram([i for i in NBI_API_User if i != 1], bins=40)\n",
    "values2, base2 = np.histogram([i for i in NBI_API_User_Tag if i != 1], bins=40)\n",
    "#values3, base3 = np.histogram([i for i in GRM_result if i != 1], bins=40)\n",
    "#evaluate the cumulative\n",
    "cumulative = np.cumsum(values)\n",
    "cumulative1 = np.cumsum(values1)\n",
    "cumulative2 = np.cumsum(values2)\n",
    "#cumulative3 = np.cumsum(values3)\n",
    "# plot the cumulative function\n",
    "plt.plot(base[:-1], cumulative, c='blue', label=\"NBI_API_User_Mashup\") # Network Based Inference 3 layers\n",
    "plt.plot(base1[:-1], cumulative1, c='red', label=\"NBI_API_User\") # Network Based Inference 2 layers\n",
    "plt.plot(base2[:-1], cumulative2, c='green', label=\"NBI_API_User_Tag\") # Network Based Inference 2 layers\n",
    "#plt.plot(base3[:-1], cumulative3, c='yellow', label=\"GRM\") # Global Ranking Method\n",
    "plt.ylabel(\"number of test points\")\n",
    "plt.xlabel(\"r\")\n",
    "plt.legend(loc=4)\n",
    "#plt.savefig(\"Mashup-API-performance\")"
   ]
  }
 ],
 "metadata": {
  "kernelspec": {
   "display_name": "Python 3",
   "language": "python",
   "name": "python3"
  },
  "language_info": {
   "codemirror_mode": {
    "name": "ipython",
    "version": 3
   },
   "file_extension": ".py",
   "mimetype": "text/x-python",
   "name": "python",
   "nbconvert_exporter": "python",
   "pygments_lexer": "ipython3",
   "version": "3.4.3"
  }
 },
 "nbformat": 4,
 "nbformat_minor": 0
}
